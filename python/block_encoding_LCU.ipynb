{
 "cells": [
  {
   "cell_type": "markdown",
   "metadata": {},
   "source": [
    "# block encoding\n",
    "\n",
    "block encoding 有多种实现方式：\n",
    "\n",
    "1. 简单构造; [4]\n",
    "\n",
    "2. Linear combination of unitaries; [1,3]\n",
    "\n",
    "3. & 4. efficient method for sparse matrices and structured matrices. [2,4,5]\n",
    "\n",
    "本部分参考文献：\n",
    "\n",
    "[1]. https://pennylane.ai/qml/demos/tutorial_lcu_blockencoding/\n",
    "\n",
    "[2]. https://pennylane.ai/qml/demos/tutorial_block_encoding/#fable\n",
    "\n",
    "[3]. Hamiltonian Simulation by Qubitization, https://doi.org/10.22331/q-2019-07-12-163\n",
    "\n",
    "[4]. EXPLICIT QUANTUM CIRCUITS FOR BLOCK ENCODINGS OF CERTAIN SPARSE MATRICES, https://doi.org/10.1137/22M1484298\n",
    "\n",
    "[5]. FABLE: Fast Approximate Quantum Circuits for Block-Encodings, \n",
    "https://doi.org/10.1109/QCE53715.2022.00029\n",
    "\n",
    "# 最简单的构造方式\n",
    "\n",
    "\\begin{equation}\n",
    "U(A)=\\left(\\begin{array}{cc}A & \\sqrt{I-A A^{\\dagger}} \\\\ \\sqrt{I-A^{\\dagger} A} & -A^{\\dagger}\\end{array}\\right).\n",
    "\\end{equation}\n",
    "\n",
    "不要求矩阵A是厄米的\n",
    "\n",
    "要求矩阵A的二范数小于等于1\n",
    "\n",
    "对应的量子线路可能较深\n"
   ]
  },
  {
   "cell_type": "code",
   "execution_count": 5,
   "metadata": {},
   "outputs": [],
   "source": [
    "import numpy as np\n",
    "import scipy"
   ]
  },
  {
   "cell_type": "code",
   "execution_count": 6,
   "metadata": {},
   "outputs": [
    {
     "name": "stdout",
     "output_type": "stream",
     "text": [
      "[[0.1 0.2]\n",
      " [0.3 0.4]]\n",
      "[[0.1 0.2]\n",
      " [0.3 0.4]]\n",
      "[[ 1.  0.  0.  0.]\n",
      " [ 0.  1.  0.  0.]\n",
      " [ 0.  0.  1. -0.]\n",
      " [ 0.  0. -0.  1.]]\n"
     ]
    }
   ],
   "source": [
    "I = np.array([[1,0],[0,1]])\n",
    "\n",
    "A = np.array([[0.1, 0.2], [0.3, 0.4]]) # 测试矩阵1\n",
    "# A = np.array([[7, -1], [-1, 3]]) # 测试矩阵4\n",
    "# A = np.array([[5, 0], [0, 5]]) # 测试矩阵4\n",
    "# A = np.array([[1, 2], [3, 4]]) # 测试矩阵2\n",
    "# A = np.array([[0.5, -0.9], [0.8, 0.5]]) # 测试矩阵3\n",
    "assert np.linalg.norm(A, ord=2) <= 1, Exception(f'矩阵的二范数为{np.linalg.norm(A, ord=2)}，大于1')\n",
    "\n",
    "B = scipy.linalg.sqrtm(I - A @ A.transpose().conj())\n",
    "C = scipy.linalg.sqrtm(I - A.transpose().conj() @ A)\n",
    "D = -A.transpose().conj()\n",
    "AB = np.concatenate((A, B), axis=1)\n",
    "CD = np.concatenate((C, D), axis=1)\n",
    "U = np.concatenate((AB, CD), axis=0)\n",
    "print(A)\n",
    "print(U[:2,:2])\n",
    "print((U.transpose().conj() @ U).round(10)) # 验证幺正"
   ]
  },
  {
   "cell_type": "code",
   "execution_count": 7,
   "metadata": {},
   "outputs": [
    {
     "data": {
      "text/plain": [
       "(array([[0.1, 0.2],\n",
       "        [0.3, 0.4]]),\n",
       " array([[ 0.97283788, -0.05988708],\n",
       "        [-0.05988708,  0.86395228]]),\n",
       " array([[ 0.1       ,  0.2       ,  0.97283788, -0.05988708],\n",
       "        [ 0.3       ,  0.4       , -0.05988708,  0.86395228]]))"
      ]
     },
     "execution_count": 7,
     "metadata": {},
     "output_type": "execute_result"
    }
   ],
   "source": [
    "A, B, AB"
   ]
  },
  {
   "cell_type": "markdown",
   "metadata": {},
   "source": [
    "# Linear combination of unitaries (LCU)\n",
    "\n",
    "矩阵A可以分解为N个幺正矩阵的线性叠加\n",
    "\n",
    "\\begin{equation}\n",
    "A=\\sum_{k=0}^{N-1} \\alpha_k U_k .\n",
    "\\end{equation}\n",
    "\n",
    "幺正矩阵的选取有很多种方式，最简单的是选择Pauli基。分解代码如下"
   ]
  },
  {
   "cell_type": "code",
   "execution_count": 15,
   "metadata": {},
   "outputs": [],
   "source": [
    "import math\n",
    "import itertools\n",
    "from functools import reduce\n",
    "NP_DTYPE = np.complex64\n",
    "sigmaI = np.eye(2, dtype=NP_DTYPE)\n",
    "sigmaX = np.array([[0, 1], [1, 0]], dtype=NP_DTYPE)\n",
    "sigmaY = np.array([[0, -1j], [1j, 0]], dtype=NP_DTYPE)\n",
    "sigmaZ = np.array([[1, 0], [0, -1]], dtype=NP_DTYPE)\n",
    "\n",
    "def pauli_decompose(A: np.ndarray) -> dict:\n",
    "    '''\n",
    "    将矩阵A分解为Pauli基的叠加\n",
    "    '''\n",
    "    q_num = int(math.log2(A.shape[0]))\n",
    "    if q_num >= 14:\n",
    "        raise Exception('qubit number too large, memory consumption too large')\n",
    "    Pauli_basis = np.asarray([sigmaI, sigmaX, sigmaY, sigmaZ])\n",
    "    A = A.reshape([2] * q_num * 2)\n",
    "    A = np.transpose(A, np.hstack([[i, i + q_num] for i in range(q_num)]))\n",
    "    for _ in range(q_num):\n",
    "        A = np.einsum('abc,dba->cd', A.reshape([2, 2, -1]), Pauli_basis)\n",
    "    return {\n",
    "        ''.join(k): v\n",
    "        for k, v in zip(list(itertools.product('IXYZ', repeat=q_num)),\n",
    "                        A.reshape(-1) / 2**q_num)\n",
    "    }\n",
    "\n",
    "def recombination(pauli_coe: dict):\n",
    "    '''\n",
    "    验证重组后能得到A矩阵\n",
    "    '''\n",
    "    op_map = {'I': sigmaI, 'X': sigmaX, 'Y': sigmaY, 'Z': sigmaZ}\n",
    "    q_num = len(list(pauli_coe.keys())[0])\n",
    "    # assert len(pauli_coe) == 4**q_num\n",
    "    rho = 0\n",
    "    for op, expctation in pauli_coe.items():\n",
    "        rho += expctation * reduce(np.kron, [op_map[_op] for _op in op])\n",
    "    return rho"
   ]
  },
  {
   "cell_type": "code",
   "execution_count": 18,
   "metadata": {},
   "outputs": [
    {
     "name": "stdout",
     "output_type": "stream",
     "text": [
      "{'I': (0.5+0j), 'X': (-0.8+0j), 'Y': 0j, 'Z': 0j}\n",
      "[[ 0.5 -0.8]\n",
      " [-0.8  0.5]]\n",
      "[[ 0.5+0.j -0.8+0.j]\n",
      " [-0.8+0.j  0.5+0.j]]\n"
     ]
    }
   ],
   "source": [
    "# 测试\n",
    "# A = np.array([[0.1, 0.2], [0.3, 0.4]]) # 测试矩阵1\n",
    "# A = np.array([[1, 2], [3, 4]]) # 测试矩阵2\n",
    "A = np.array([[0.5, -0.8], [-0.8, 0.5]]) # 测试矩阵3\n",
    "# A = np.array([[0.5, -0.5], [-0.5, 0.5]]) # 测试矩阵4\n",
    "# A = np.array([[0.5, -0.5, 0.5, -0.5], [0.5, -0.5, 0.5, 0.5], [0.5, -0.5, 0.5, -0.5], [0.5, -0.5, 0.5, 0.5]]) # 测试矩阵5\n",
    "\n",
    "pauli_coe = pauli_decompose(A)\n",
    "print(pauli_coe)\n",
    "print(A)\n",
    "print(recombination(pauli_coe))"
   ]
  },
  {
   "cell_type": "code",
   "execution_count": 19,
   "metadata": {},
   "outputs": [],
   "source": [
    "# 对比pennylane的分解代码\n",
    "import pennylane as qml\n",
    "LCU = qml.pauli_decompose(A)\n",
    "LCU_coeffs, LCU_ops = LCU.terms()"
   ]
  },
  {
   "cell_type": "code",
   "execution_count": 20,
   "metadata": {},
   "outputs": [
    {
     "data": {
      "text/plain": [
       "array([ 0.5, -0.8])"
      ]
     },
     "execution_count": 20,
     "metadata": {},
     "output_type": "execute_result"
    }
   ],
   "source": [
    "LCU_coeffs"
   ]
  },
  {
   "cell_type": "code",
   "execution_count": 21,
   "metadata": {},
   "outputs": [
    {
     "data": {
      "text/plain": [
       "[I(0), X(0)]"
      ]
     },
     "execution_count": 21,
     "metadata": {},
     "output_type": "execute_result"
    }
   ],
   "source": [
    "LCU_ops"
   ]
  },
  {
   "cell_type": "markdown",
   "metadata": {},
   "source": [
    "得到了分解后Pauli基的系数后，就可以开始进行block encoding，过程中要用到prepare（PREP）算符和select（SEL）算符：\n",
    "\n",
    "\\begin{equation}\n",
    "\\operatorname{PREP}|0\\rangle=\\sum_k \\sqrt{\\frac{\\left|\\alpha_k\\right|}{\\lambda}}|k\\rangle,\n",
    "\\end{equation}\n",
    "\n",
    "其中$\\lambda$是归一化常数，$\\lambda=\\sum_k\\left|\\alpha_k\\right|$\n",
    "\n",
    "\\begin{equation}\n",
    "\\text { SEL }|k\\rangle|\\psi\\rangle=|k\\rangle U_k|\\psi\\rangle \\text {. }\n",
    "\\end{equation}\n",
    "\n",
    "A矩阵的block encoding就是\n",
    "\n",
    "\\begin{equation}\n",
    "U=\\text { PREP }^{\\dagger} \\cdot \\text { SEL } \\cdot \\text { PREP }\n",
    "\\end{equation}\n",
    "\n",
    "\\begin{equation}\n",
    "U=\\left[\n",
    "\\begin{array}{ll}\n",
    "A & * \\\\\n",
    "* & *\n",
    "\\end{array}\n",
    "\\right]\n",
    "\\end{equation}\n",
    "\n",
    "这一点可以通过如下运算来验证\n",
    "\n",
    "\\begin{align}\n",
    "\\left\\langle 0\\left|\\mathrm{PREP}^{\\dagger} \\cdot \\mathrm{SEL} \\cdot \\mathrm{PREP}\\right| 0\\right\\rangle|\\psi\\rangle \n",
    "&=\\sum_k \\left\\langle k \\left| \\sqrt{\\frac{\\left|\\alpha_k\\right|}{\\lambda}} \\cdot \\sqrt{\\frac{\\left|\\alpha_k\\right|}{\\lambda}} \\right| k \\right \\rangle U_k \\left| \\psi \\right\\rangle \\\\\n",
    "&=\\sum_k \\frac{\\left|\\alpha_k\\right|}{\\lambda} U_k |\\psi\\rangle\\\\\n",
    "&=\\frac{A}{\\lambda}|\\psi\\rangle \\\\\n",
    "\\end{align}\n",
    "\n",
    "注意原本分解系数$\\alpha_k$是个复数，但上式告诉我们要将分解系数化为非负实数，这可以通过将一个相位吸收到$U_k$中做到。"
   ]
  },
  {
   "cell_type": "code",
   "execution_count": 13,
   "metadata": {},
   "outputs": [],
   "source": [
    "import qiskit\n",
    "from qiskit_aer import AerSimulator"
   ]
  },
  {
   "cell_type": "code",
   "execution_count": 23,
   "metadata": {},
   "outputs": [
    {
     "name": "stdout",
     "output_type": "stream",
     "text": [
      "     ┌─────────────────┐   ┌──────────────────┐   ┌────────────┐               »\n",
      "q_0: ┤ U(0.66896,0,-π) ├─■─┤ U(0.90183,-π,-π) ├─■─┤ U(π/2,0,π) ├───────o───────»\n",
      "     └─────────────────┘ │ └──────────────────┘ │ └────────────┘       │       »\n",
      "q_1: ────────────────────■──────────────────────■──────────────────────o───────»\n",
      "                                                                ┌──────┴──────┐»\n",
      "q_2: ───────────────────────────────────────────────────────────┤ circuit-484 ├»\n",
      "                                                                └─────────────┘»\n",
      "«                    ┌──────────────┐   ┌─────────────────┐   »\n",
      "«q_0: ───────■───────┤ U(-π/2,-π,0) ├─■─┤ U(-0.90183,π,π) ├─■─»\n",
      "«            │       └──────────────┘ │ └─────────────────┘ │ »\n",
      "«q_1: ───────o────────────────────────■─────────────────────■─»\n",
      "«     ┌──────┴──────┐                                         »\n",
      "«q_2: ┤ circuit-495 ├─────────────────────────────────────────»\n",
      "«     └─────────────┘                                         »\n",
      "«     ┌─────────────────┐\n",
      "«q_0: ┤ U(-0.66896,π,0) ├\n",
      "«     └─────────────────┘\n",
      "«q_1: ───────────────────\n",
      "«                        \n",
      "«q_2: ───────────────────\n",
      "«                        \n",
      "[[ 0.38461538 -0.61538462]\n",
      " [-0.61538462  0.38461538]]\n",
      "[[ 0.38461538+0.j -0.61538462-0.j]\n",
      " [-0.61538462-0.j  0.38461538+0.j]]\n"
     ]
    }
   ],
   "source": [
    "basis2unitary = {'I': sigmaI, 'X': sigmaX, 'Y': sigmaY, 'Z': sigmaZ}\n",
    "\n",
    "# A = np.array([[0.1, 0.2], [0.3, 0.4]]) # 测试矩阵1\n",
    "# A = np.array([[1, 2], [3, 4]]) # 测试矩阵2\n",
    "A = np.array([[0.5, -0.8], [-0.8, 0.5]]) # 测试矩阵3\n",
    "# A = np.array([[0.5, -0.5], [-0.5, 0.5]]) # 测试矩阵4\n",
    "# A = np.array([[0.9, -0.5, 0.5, -0.5], [0.5, -0.5, 0.5, 0.5], [0.5, -0.5, 0.5, -0.5], [0.5, -0.5, 0.5, 0.5]]) # 测试矩阵5\n",
    "\n",
    "def judge_2_powers(k: int):\n",
    "    '''\n",
    "    判断一个数字是否为2的整数幂\n",
    "    返回 True/False 及大于等于k的最小的2的幂次\n",
    "    '''\n",
    "    bitstring = np.binary_repr(k)\n",
    "    if bitstring == '0':\n",
    "        return False, 0\n",
    "    elif bitstring == '1':\n",
    "        return False, 1\n",
    "    elif bitstring[0] == '1' and int(bitstring[1:]) == 0:\n",
    "        return True, len(bitstring) - 1\n",
    "    else:\n",
    "        return False, len(bitstring)\n",
    "\n",
    "\n",
    "def block_encoding_LCU_pauli(A: np.array):\n",
    "    # TODO：如果A的维度不是2的整数幂，需要填充0补齐\n",
    "    # A = padded(A)\n",
    "\n",
    "    qnum_encode = judge_2_powers(A.shape[0])[-1] # A矩阵占据的维度\n",
    "    qnum_ancilla = 2 * qnum_encode # 编码系数的辅助比特，Pauli基数目随比特数N成4^N增长\n",
    "    qnum_all = qnum_encode + qnum_ancilla\n",
    "\n",
    "    alphas = pauli_decompose(A)\n",
    "    init_state = np.abs(list(alphas.values()))\n",
    "    Lambda = np.sum(init_state)\n",
    "    init_state = np.sqrt(init_state/Lambda)\n",
    "    qc_init = qiskit.QuantumCircuit(qnum_ancilla)\n",
    "    qc_init.initialize(init_state, list(np.arange(qnum_ancilla)))\n",
    "    qc_init = qiskit.transpile(qc_init, basis_gates=['u', 'cz'], optimization_level=3)\n",
    "\n",
    "    qc_all = qiskit.QuantumCircuit(qnum_all)\n",
    "    new_qc_init = qiskit.QuantumCircuit(qnum_ancilla)\n",
    "    ## delete the reset gate in the initialization circuit\n",
    "    for inst, qargs, cargs in qc_init.data:\n",
    "        if inst.name == 'reset':\n",
    "            continue\n",
    "        new_qc_init.append(inst, qargs, cargs)\n",
    "    # print(new_qc_init.draw())\n",
    "\n",
    "    qc_all.compose(new_qc_init, range(qnum_ancilla), inplace=True)\n",
    "\n",
    "    for idx1, pauli_basis in enumerate(alphas.keys()):\n",
    "        coe = alphas[pauli_basis]\n",
    "        if np.abs(coe) == 0:\n",
    "            continue\n",
    "        for idx2, _pauli_basis in enumerate(pauli_basis):\n",
    "            qc_mcg = qiskit.QuantumCircuit(1) # 构建多比特控制门\n",
    "            # qc_mcg.rz(-2*np.angle(coe) * (idx2 == 0),[0])\n",
    "            if idx2 == 0:\n",
    "                qc_mcg.u(0, 0, np.angle(coe), [0])\n",
    "                qc_mcg.x([0])\n",
    "                qc_mcg.u(0, 0, np.angle(coe), [0])\n",
    "                qc_mcg.x([0])\n",
    "            # for idx2, _pauli_basis in enumerate(pauli_basis):\n",
    "            #     qc_mcg = qiskit.QuantumCircuit(1) # 构建多比特控制门\n",
    "            #     qc_mcg.unitary(np.exp(1j*np.angle(coe) * (idx2 == 0)) * basis2unitary[_pauli_basis], [0])\n",
    "            #     mcg = qc_mcg.to_gate().control(qnum_ancilla, ctrl_state=np.binary_repr(idx1, width=qnum_ancilla))\n",
    "            #     qc_all.append(mcg, list(range(qnum_ancilla)) + [qnum_ancilla+idx2])\n",
    "            if _pauli_basis == 'X':\n",
    "                # qc_mcg.rx(-2*np.angle(coe) * (idx2 == 0), [0])\n",
    "                qc_mcg.x([0])\n",
    "            elif _pauli_basis == 'Y':\n",
    "                # qc_mcg.ry(-2*np.angle(coe) * (idx2 == 0), [0])\n",
    "                qc_mcg.y([0])\n",
    "            elif _pauli_basis == 'Z':\n",
    "                # qc_mcg.rz(-2*np.angle(coe) * (idx2 == 0), [0])\n",
    "                qc_mcg.z([0])\n",
    "            else:\n",
    "                # qc_mcg.p(-2*np.angle(coe),[0])\n",
    "                qc_mcg.id([0])\n",
    "            # if idx2 == 0:\n",
    "                \n",
    "            mcg = qc_mcg.to_gate().control(qnum_ancilla, ctrl_state=np.binary_repr(idx1, width=qnum_ancilla))\n",
    "            qc_all.append(mcg, list(range(qnum_ancilla)) + [qnum_ancilla+idx2])\n",
    "\n",
    "    qc_all.compose(new_qc_init.inverse(), range(qnum_ancilla), inplace=True)\n",
    "    \n",
    "\n",
    "    return qc_all, Lambda\n",
    "\n",
    "qc, Lambda = block_encoding_LCU_pauli(A)\n",
    "print(qc.draw())\n",
    "simulator = AerSimulator(method='unitary')\n",
    "qc = qiskit.transpile(qc, simulator, basis_gates=['u', 'cz'], optimization_level=3)\n",
    "qc.save_unitary()\n",
    "result = simulator.run(qc.reverse_bits()).result()\n",
    "print(A/Lambda)\n",
    "print(result.get_unitary().data.round(10)[:A.shape[0],:A.shape[1]])"
   ]
  },
  {
   "cell_type": "code",
   "execution_count": null,
   "metadata": {},
   "outputs": [],
   "source": []
  },
  {
   "cell_type": "code",
   "execution_count": null,
   "metadata": {},
   "outputs": [],
   "source": []
  }
 ],
 "metadata": {
  "kernelspec": {
   "display_name": "Python 3.9.7 ('base')",
   "language": "python",
   "name": "python3"
  },
  "language_info": {
   "codemirror_mode": {
    "name": "ipython",
    "version": 3
   },
   "file_extension": ".py",
   "mimetype": "text/x-python",
   "name": "python",
   "nbconvert_exporter": "python",
   "pygments_lexer": "ipython3",
   "version": "3.8.13"
  },
  "orig_nbformat": 4,
  "vscode": {
   "interpreter": {
    "hash": "6a018d3a992d78c184ccc94ab54168c7b26325ed3c2283926339c3edbf5487e7"
   }
  }
 },
 "nbformat": 4,
 "nbformat_minor": 2
}
